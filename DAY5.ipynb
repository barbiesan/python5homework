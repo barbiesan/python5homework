{
 "cells": [
  {
   "cell_type": "code",
   "execution_count": 86,
   "id": "20e83e8d",
   "metadata": {},
   "outputs": [
    {
     "name": "stdout",
     "output_type": "stream",
     "text": [
      "What would you like to add?apples\n",
      "please enter a quantity5\n",
      "please enter a price5.5\n",
      "Would you like to add more items?Type \"y\" for Yes or \"q\" quit?y\n",
      "What would you like to add?banana\n",
      "please enter a quantity7\n",
      "please enter a price8.98\n",
      "Would you like to add more items?Type \"y\" for Yes or \"q\" quit?q\n",
      "Your cart is 5, apples 5.5 27.5\n",
      "Your cart is 7, banana 8.98 62.86\n",
      " Your grand total is: $90.360000\n"
     ]
    }
   ],
   "source": [
    "    ##Build a shopping cart program with the following capabilities:\n",
    "\n",
    "#1) Takes in an input\n",
    "#2) Stores user input into a dictionary or list\n",
    "#3) The User can add or delete items\n",
    "#4) The User can see current shopping list\n",
    "#5) The program Loops until user 'quits'\n",
    "#6) Upon quiting the program, prints out a receipt of the items with total and quantity.#to comment command/\n",
    "\n",
    "grocery_list={}\n",
    "\n",
    "your_cart=[]\n",
    "\n",
    "\n",
    "quit = False\n",
    "while not quit:\n",
    "    name=input('What would you like to add?')\n",
    "    quantity=input('please enter a quantity')\n",
    "    cost=input('please enter a price')\n",
    "    grocery_list={'item_name':(name), 'quantity':int(quantity), 'cost':float(cost)}  \n",
    "\n",
    "    your_cart.append(grocery_list) \n",
    "\n",
    "    response = input('Would you like to add more items?' 'Type \"y\" for Yes or \"q\" quit?')\n",
    "    if response == \"q\":\n",
    "            quit = True\n",
    "grand_total=0\n",
    "for item in your_cart:\n",
    "    total= item['quantity']* item['cost']\n",
    "    grand_total += total\n",
    "    print(f\"Your cart is {item['quantity']}, {item['item_name']} {item['cost']} {total}\")\n",
    "    \n",
    "print(f\" Your grand total is: ${grand_total:.2f}\")\n",
    "      "
   ]
  },
  {
   "cell_type": "code",
   "execution_count": null,
   "id": "f4431630",
   "metadata": {},
   "outputs": [],
   "source": []
  }
 ],
 "metadata": {
  "kernelspec": {
   "display_name": "Python 3 (ipykernel)",
   "language": "python",
   "name": "python3"
  },
  "language_info": {
   "codemirror_mode": {
    "name": "ipython",
    "version": 3
   },
   "file_extension": ".py",
   "mimetype": "text/x-python",
   "name": "python",
   "nbconvert_exporter": "python",
   "pygments_lexer": "ipython3",
   "version": "3.9.7"
  }
 },
 "nbformat": 4,
 "nbformat_minor": 5
}
